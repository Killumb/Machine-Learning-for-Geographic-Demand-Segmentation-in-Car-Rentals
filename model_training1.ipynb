{
 "cells": [
  {
   "cell_type": "code",
   "execution_count": null,
   "id": "b8d9163a",
   "metadata": {},
   "outputs": [
    {
     "name": "stdout",
     "output_type": "stream",
     "text": [
      "--- Начало Исправленного Этапа 3 ---\n",
      "✅ Данные загружены.\n",
      "Признаки с утечкой данных ['rating', 'reviewCount'] были исключены из X_train и X_test.\n",
      "Данные готовы к обучению. Новый размер X_train: (4680, 14)\n"
     ]
    }
   ],
   "source": [
    "# ===================================================================\n",
    "# ЭТАП 3: Моделирование и настройка\n",
    "# ===================================================================\n",
    "\n",
    "print(\"--- Начало Исправленного Этапа 3 ---\")\n",
    "\n",
    "# Импорт всех необходимых библиотек\n",
    "import pandas as pd\n",
    "import numpy as np\n",
    "import lightgbm as lgb\n",
    "from sklearn.linear_model import LinearRegression\n",
    "from sklearn.ensemble import RandomForestRegressor\n",
    "from sklearn.model_selection import RandomizedSearchCV\n",
    "from sklearn.metrics import mean_squared_error, mean_absolute_error, r2_score\n",
    "import matplotlib.pyplot as plt\n",
    "import seaborn as sns\n",
    "import os\n",
    "\n",
    "# --- Шаг 3.1: ЗАГРУЗКА ДАННЫХ И ПОДГОТОВКА К ОБУЧЕНИЮ ---\n",
    "data_dir = 'processed_data'\n",
    "\n",
    "try:\n",
    "    # Загружаем X_train и X_test, которые мы сохранили на Этапе 2\n",
    "    # Они все еще содержат 'rating' и 'reviewCount'\n",
    "    X_train_full = pd.read_csv(os.path.join(data_dir, 'X_train.csv'))\n",
    "    X_test_full = pd.read_csv(os.path.join(data_dir, 'X_test.csv'))\n",
    "    \n",
    "    y_train = pd.read_csv(os.path.join(data_dir, 'y_train.csv')).squeeze()\n",
    "    y_test = pd.read_csv(os.path.join(data_dir, 'y_test.csv')).squeeze()\n",
    "    \n",
    "    # --- ВАЖНО: ИСКЛЮЧАЕМ ПРИЗНАКИ С УТЕЧКОЙ ДАННЫХ ---\n",
    "    features_to_drop = ['rating', 'reviewCount']\n",
    "    X_train = X_train_full.drop(columns=features_to_drop)\n",
    "    X_test = X_test_full.drop(columns=features_to_drop)\n",
    "    \n",
    "    print(\"✅ Данные загружены.\")\n",
    "    print(f\"Признаки с утечкой данных {features_to_drop} были исключены из X_train и X_test.\")\n",
    "    print(f\"Данные готовы к обучению. Новый размер X_train: {X_train.shape}\")\n",
    "\n",
    "except FileNotFoundError:\n",
    "    print(f\"❌ Ошибка: Файлы для обучения не найдены в папке '{data_dir}'.\")\n",
    "    print(\"Пожалуйста, выполните Этап 2, чтобы создать эти файлы.\")"
   ]
  },
  {
   "cell_type": "code",
   "execution_count": null,
   "id": "d41ac52a",
   "metadata": {},
   "outputs": [
    {
     "name": "stdout",
     "output_type": "stream",
     "text": [
      "\n",
      "--- Сравнение производительности моделей без 'leaky' признаков ---\n",
      "Обучение модели: Linear Regression...\n",
      "Результат для Linear Regression: R2 = 0.225, MAE = 24.97\n",
      "\n",
      "Обучение модели: Random Forest...\n",
      "Результат для Random Forest: R2 = 0.202, MAE = 25.08\n",
      "\n",
      "Обучение модели: LightGBM...\n",
      "[LightGBM] [Info] Auto-choosing row-wise multi-threading, the overhead of testing was 0,000358 seconds.\n",
      "You can set `force_row_wise=true` to remove the overhead.\n",
      "And if memory is not enough, you can set `force_col_wise=true`.\n",
      "[LightGBM] [Info] Total Bins 876\n",
      "[LightGBM] [Info] Number of data points in the train set: 4680, number of used features: 14\n",
      "[LightGBM] [Info] Start training from score 33,461111\n",
      "Результат для LightGBM: R2 = 0.202, MAE = 25.06\n",
      "\n",
      "--- Итоговая таблица сравнения моделей ---\n"
     ]
    },
    {
     "data": {
      "application/vnd.microsoft.datawrangler.viewer.v0+json": {
       "columns": [
        {
         "name": "index",
         "rawType": "int64",
         "type": "integer"
        },
        {
         "name": "model",
         "rawType": "object",
         "type": "string"
        },
        {
         "name": "R2 Score",
         "rawType": "float64",
         "type": "float"
        },
        {
         "name": "MAE",
         "rawType": "float64",
         "type": "float"
        }
       ],
       "ref": "29fb10f7-f288-464c-bb39-1ce9d0a1c122",
       "rows": [
        [
         "0",
         "Linear Regression",
         "0.2253942143437747",
         "24.97346389756309"
        ],
        [
         "1",
         "Random Forest",
         "0.20221051216904262",
         "25.079067961737472"
        ],
        [
         "2",
         "LightGBM",
         "0.20157282087911244",
         "25.063514135939748"
        ]
       ],
       "shape": {
        "columns": 3,
        "rows": 3
       }
      },
      "text/html": [
       "<div>\n",
       "<style scoped>\n",
       "    .dataframe tbody tr th:only-of-type {\n",
       "        vertical-align: middle;\n",
       "    }\n",
       "\n",
       "    .dataframe tbody tr th {\n",
       "        vertical-align: top;\n",
       "    }\n",
       "\n",
       "    .dataframe thead th {\n",
       "        text-align: right;\n",
       "    }\n",
       "</style>\n",
       "<table border=\"1\" class=\"dataframe\">\n",
       "  <thead>\n",
       "    <tr style=\"text-align: right;\">\n",
       "      <th></th>\n",
       "      <th>model</th>\n",
       "      <th>R2 Score</th>\n",
       "      <th>MAE</th>\n",
       "    </tr>\n",
       "  </thead>\n",
       "  <tbody>\n",
       "    <tr>\n",
       "      <th>0</th>\n",
       "      <td>Linear Regression</td>\n",
       "      <td>0.225394</td>\n",
       "      <td>24.973464</td>\n",
       "    </tr>\n",
       "    <tr>\n",
       "      <th>1</th>\n",
       "      <td>Random Forest</td>\n",
       "      <td>0.202211</td>\n",
       "      <td>25.079068</td>\n",
       "    </tr>\n",
       "    <tr>\n",
       "      <th>2</th>\n",
       "      <td>LightGBM</td>\n",
       "      <td>0.201573</td>\n",
       "      <td>25.063514</td>\n",
       "    </tr>\n",
       "  </tbody>\n",
       "</table>\n",
       "</div>"
      ],
      "text/plain": [
       "               model  R2 Score        MAE\n",
       "0  Linear Regression  0.225394  24.973464\n",
       "1      Random Forest  0.202211  25.079068\n",
       "2           LightGBM  0.201573  25.063514"
      ]
     },
     "metadata": {},
     "output_type": "display_data"
    },
    {
     "name": "stdout",
     "output_type": "stream",
     "text": [
      "\n",
      "✅ Лучшая базовая модель по R2 Score: Linear Regression\n"
     ]
    }
   ],
   "source": [
    "# --- Шаг 3.2: Сравнение моделей на  данных ---\n",
    "# Теперь метрики будут ниже, но они отразят реальную предсказательную силу модели.\n",
    "\n",
    "print(\"\\n--- Сравнение производительности моделей без 'leaky' признаков ---\")\n",
    "\n",
    "models = {\n",
    "    \"Linear Regression\": LinearRegression(),\n",
    "    \"Random Forest\": RandomForestRegressor(n_estimators=100, random_state=42, n_jobs=-1),\n",
    "    \"LightGBM\": lgb.LGBMRegressor(random_state=42)\n",
    "}\n",
    "\n",
    "results = []\n",
    "\n",
    "for name, model in models.items():\n",
    "    print(f\"Обучение модели: {name}...\")\n",
    "    model.fit(X_train, y_train)\n",
    "    y_pred = model.predict(X_test)\n",
    "    y_pred[y_pred < 0] = 0\n",
    "    \n",
    "    r2 = r2_score(y_test, y_pred)\n",
    "    mae = mean_absolute_error(y_test, y_pred)\n",
    "    \n",
    "    results.append({'model': name, 'R2 Score': r2, 'MAE': mae})\n",
    "    print(f\"Результат для {name}: R2 = {r2:.3f}, MAE = {mae:.2f}\\n\")\n",
    "\n",
    "results_df = pd.DataFrame(results).sort_values(by='R2 Score', ascending=False).reset_index(drop=True)\n",
    "\n",
    "print(\"--- Итоговая таблица сравнения моделей ---\")\n",
    "display(results_df)\n",
    "\n",
    "best_model_name = results_df.iloc[0]['model']\n",
    "print(f\"\\n✅ Лучшая базовая модель по R2 Score: {best_model_name}\")"
   ]
  },
  {
   "cell_type": "code",
   "execution_count": 7,
   "id": "4c2bb6c6",
   "metadata": {},
   "outputs": [
    {
     "name": "stdout",
     "output_type": "stream",
     "text": [
      "\n",
      "--- Тонкая настройка модели LightGBM ---\n",
      "Начинаем поиск лучших гиперпараметров...\n",
      "Fitting 3 folds for each of 25 candidates, totalling 75 fits\n",
      "[LightGBM] [Info] Auto-choosing row-wise multi-threading, the overhead of testing was 0,000298 seconds.\n",
      "You can set `force_row_wise=true` to remove the overhead.\n",
      "And if memory is not enough, you can set `force_col_wise=true`.\n",
      "[LightGBM] [Info] Total Bins 876\n",
      "[LightGBM] [Info] Number of data points in the train set: 4680, number of used features: 14\n",
      "[LightGBM] [Info] Start training from score 33,461111\n",
      "[LightGBM] [Warning] No further splits with positive gain, best gain: -inf\n",
      "[LightGBM] [Warning] No further splits with positive gain, best gain: -inf\n",
      "[LightGBM] [Warning] No further splits with positive gain, best gain: -inf\n",
      "[LightGBM] [Warning] No further splits with positive gain, best gain: -inf\n",
      "[LightGBM] [Warning] No further splits with positive gain, best gain: -inf\n",
      "[LightGBM] [Warning] No further splits with positive gain, best gain: -inf\n",
      "[LightGBM] [Warning] No further splits with positive gain, best gain: -inf\n",
      "[LightGBM] [Warning] No further splits with positive gain, best gain: -inf\n",
      "[LightGBM] [Warning] No further splits with positive gain, best gain: -inf\n",
      "[LightGBM] [Warning] No further splits with positive gain, best gain: -inf\n",
      "[LightGBM] [Warning] No further splits with positive gain, best gain: -inf\n",
      "[LightGBM] [Warning] No further splits with positive gain, best gain: -inf\n",
      "[LightGBM] [Warning] No further splits with positive gain, best gain: -inf\n",
      "[LightGBM] [Warning] No further splits with positive gain, best gain: -inf\n",
      "[LightGBM] [Warning] No further splits with positive gain, best gain: -inf\n",
      "[LightGBM] [Warning] No further splits with positive gain, best gain: -inf\n",
      "[LightGBM] [Warning] No further splits with positive gain, best gain: -inf\n",
      "[LightGBM] [Warning] No further splits with positive gain, best gain: -inf\n",
      "[LightGBM] [Warning] No further splits with positive gain, best gain: -inf\n",
      "[LightGBM] [Warning] No further splits with positive gain, best gain: -inf\n",
      "[LightGBM] [Warning] No further splits with positive gain, best gain: -inf\n",
      "[LightGBM] [Warning] No further splits with positive gain, best gain: -inf\n",
      "[LightGBM] [Warning] No further splits with positive gain, best gain: -inf\n",
      "[LightGBM] [Warning] No further splits with positive gain, best gain: -inf\n",
      "[LightGBM] [Warning] No further splits with positive gain, best gain: -inf\n",
      "[LightGBM] [Warning] No further splits with positive gain, best gain: -inf\n",
      "[LightGBM] [Warning] No further splits with positive gain, best gain: -inf\n",
      "[LightGBM] [Warning] No further splits with positive gain, best gain: -inf\n",
      "[LightGBM] [Warning] No further splits with positive gain, best gain: -inf\n",
      "[LightGBM] [Warning] No further splits with positive gain, best gain: -inf\n",
      "[LightGBM] [Warning] No further splits with positive gain, best gain: -inf\n",
      "[LightGBM] [Warning] No further splits with positive gain, best gain: -inf\n",
      "[LightGBM] [Warning] No further splits with positive gain, best gain: -inf\n",
      "[LightGBM] [Warning] No further splits with positive gain, best gain: -inf\n",
      "[LightGBM] [Warning] No further splits with positive gain, best gain: -inf\n",
      "[LightGBM] [Warning] No further splits with positive gain, best gain: -inf\n",
      "[LightGBM] [Warning] No further splits with positive gain, best gain: -inf\n",
      "[LightGBM] [Warning] No further splits with positive gain, best gain: -inf\n",
      "[LightGBM] [Warning] No further splits with positive gain, best gain: -inf\n",
      "[LightGBM] [Warning] No further splits with positive gain, best gain: -inf\n",
      "[LightGBM] [Warning] No further splits with positive gain, best gain: -inf\n",
      "[LightGBM] [Warning] No further splits with positive gain, best gain: -inf\n",
      "[LightGBM] [Warning] No further splits with positive gain, best gain: -inf\n",
      "[LightGBM] [Warning] No further splits with positive gain, best gain: -inf\n",
      "[LightGBM] [Warning] No further splits with positive gain, best gain: -inf\n",
      "[LightGBM] [Warning] No further splits with positive gain, best gain: -inf\n",
      "[LightGBM] [Warning] No further splits with positive gain, best gain: -inf\n",
      "[LightGBM] [Warning] No further splits with positive gain, best gain: -inf\n",
      "[LightGBM] [Warning] No further splits with positive gain, best gain: -inf\n",
      "[LightGBM] [Warning] No further splits with positive gain, best gain: -inf\n",
      "[LightGBM] [Warning] No further splits with positive gain, best gain: -inf\n",
      "[LightGBM] [Warning] No further splits with positive gain, best gain: -inf\n",
      "[LightGBM] [Warning] No further splits with positive gain, best gain: -inf\n",
      "[LightGBM] [Warning] No further splits with positive gain, best gain: -inf\n",
      "[LightGBM] [Warning] No further splits with positive gain, best gain: -inf\n",
      "[LightGBM] [Warning] No further splits with positive gain, best gain: -inf\n",
      "[LightGBM] [Warning] No further splits with positive gain, best gain: -inf\n",
      "[LightGBM] [Warning] No further splits with positive gain, best gain: -inf\n",
      "[LightGBM] [Warning] No further splits with positive gain, best gain: -inf\n",
      "[LightGBM] [Warning] No further splits with positive gain, best gain: -inf\n",
      "[LightGBM] [Warning] No further splits with positive gain, best gain: -inf\n",
      "[LightGBM] [Warning] No further splits with positive gain, best gain: -inf\n",
      "[LightGBM] [Warning] No further splits with positive gain, best gain: -inf\n",
      "[LightGBM] [Warning] No further splits with positive gain, best gain: -inf\n",
      "[LightGBM] [Warning] No further splits with positive gain, best gain: -inf\n",
      "[LightGBM] [Warning] No further splits with positive gain, best gain: -inf\n",
      "[LightGBM] [Warning] No further splits with positive gain, best gain: -inf\n",
      "[LightGBM] [Warning] No further splits with positive gain, best gain: -inf\n",
      "[LightGBM] [Warning] No further splits with positive gain, best gain: -inf\n",
      "[LightGBM] [Warning] No further splits with positive gain, best gain: -inf\n",
      "[LightGBM] [Warning] No further splits with positive gain, best gain: -inf\n",
      "[LightGBM] [Warning] No further splits with positive gain, best gain: -inf\n",
      "[LightGBM] [Warning] No further splits with positive gain, best gain: -inf\n",
      "[LightGBM] [Warning] No further splits with positive gain, best gain: -inf\n",
      "[LightGBM] [Warning] No further splits with positive gain, best gain: -inf\n",
      "[LightGBM] [Warning] No further splits with positive gain, best gain: -inf\n",
      "[LightGBM] [Warning] No further splits with positive gain, best gain: -inf\n",
      "[LightGBM] [Warning] No further splits with positive gain, best gain: -inf\n",
      "[LightGBM] [Warning] No further splits with positive gain, best gain: -inf\n",
      "[LightGBM] [Warning] No further splits with positive gain, best gain: -inf\n",
      "[LightGBM] [Warning] No further splits with positive gain, best gain: -inf\n",
      "[LightGBM] [Warning] No further splits with positive gain, best gain: -inf\n",
      "[LightGBM] [Warning] No further splits with positive gain, best gain: -inf\n",
      "[LightGBM] [Warning] No further splits with positive gain, best gain: -inf\n",
      "[LightGBM] [Warning] No further splits with positive gain, best gain: -inf\n",
      "[LightGBM] [Warning] No further splits with positive gain, best gain: -inf\n",
      "[LightGBM] [Warning] No further splits with positive gain, best gain: -inf\n",
      "[LightGBM] [Warning] No further splits with positive gain, best gain: -inf\n",
      "[LightGBM] [Warning] No further splits with positive gain, best gain: -inf\n",
      "[LightGBM] [Warning] No further splits with positive gain, best gain: -inf\n",
      "[LightGBM] [Warning] No further splits with positive gain, best gain: -inf\n",
      "[LightGBM] [Warning] No further splits with positive gain, best gain: -inf\n",
      "[LightGBM] [Warning] No further splits with positive gain, best gain: -inf\n",
      "[LightGBM] [Warning] No further splits with positive gain, best gain: -inf\n",
      "[LightGBM] [Warning] No further splits with positive gain, best gain: -inf\n",
      "[LightGBM] [Warning] No further splits with positive gain, best gain: -inf\n",
      "[LightGBM] [Warning] No further splits with positive gain, best gain: -inf\n",
      "[LightGBM] [Warning] No further splits with positive gain, best gain: -inf\n",
      "[LightGBM] [Warning] No further splits with positive gain, best gain: -inf\n",
      "[LightGBM] [Warning] No further splits with positive gain, best gain: -inf\n",
      "\n",
      "Найдены лучшие параметры для LightGBM:\n",
      "{'reg_lambda': 0, 'reg_alpha': 0, 'num_leaves': 40, 'n_estimators': 100, 'max_depth': 5, 'learning_rate': 0.05}\n",
      "\n",
      "--- Качество финальной, настроенной модели ---\n",
      "R2 Score: 0.2236\n",
      "MAE: 24.81 поездок\n"
     ]
    }
   ],
   "source": [
    "# --- Шаг 3.3: Тонкая настройка лучшей модели ---\n",
    "# Настраивать будем LightGBM, так как он обычно самый быстрый и хорошо поддается тюнингу.\n",
    "\n",
    "print(f\"\\n--- Тонкая настройка модели LightGBM ---\")\n",
    "\n",
    "param_grid = {\n",
    "    'n_estimators': [100, 200, 500],\n",
    "    'learning_rate': [0.01, 0.05, 0.1],\n",
    "    'num_leaves': [20, 31, 40],\n",
    "    'max_depth': [-1, 5, 10],\n",
    "    'reg_alpha': [0, 0.1, 0.5],\n",
    "    'reg_lambda': [0, 0.1, 0.5]\n",
    "}\n",
    "\n",
    "lgbm_for_tuning = lgb.LGBMRegressor(random_state=42)\n",
    "\n",
    "random_search = RandomizedSearchCV(\n",
    "    estimator=lgbm_for_tuning, \n",
    "    param_distributions=param_grid, \n",
    "    n_iter=25,\n",
    "    cv=3, \n",
    "    scoring='r2', \n",
    "    n_jobs=-1, \n",
    "    random_state=42, \n",
    "    verbose=1\n",
    ")\n",
    "\n",
    "print(\"Начинаем поиск лучших гиперпараметров...\")\n",
    "random_search.fit(X_train, y_train)\n",
    "\n",
    "best_lgbm_tuned = random_search.best_estimator_\n",
    "print(\"\\nНайдены лучшие параметры для LightGBM:\")\n",
    "print(random_search.best_params_)\n",
    "\n",
    "# Оцениваем финальную, настроенную модель\n",
    "y_pred_final = best_lgbm_tuned.predict(X_test)\n",
    "y_pred_final[y_pred_final < 0] = 0\n",
    "\n",
    "final_r2 = r2_score(y_test, y_pred_final)\n",
    "final_mae = mean_absolute_error(y_test, y_pred_final)\n",
    "\n",
    "print(\"\\n--- Качество финальной, настроенной модели ---\")\n",
    "print(f\"R2 Score: {final_r2:.4f}\")\n",
    "print(f\"MAE: {final_mae:.2f} поездок\")"
   ]
  },
  {
   "cell_type": "code",
   "execution_count": null,
   "id": "1b94c424",
   "metadata": {},
   "outputs": [
    {
     "name": "stdout",
     "output_type": "stream",
     "text": [
      "\n",
      "--- Топ-15 признаков для финальной модели ---\n"
     ]
    },
    {
     "data": {
      "application/vnd.microsoft.datawrangler.viewer.v0+json": {
       "columns": [
        {
         "name": "index",
         "rawType": "int64",
         "type": "integer"
        },
        {
         "name": "feature",
         "rawType": "object",
         "type": "string"
        },
        {
         "name": "importance",
         "rawType": "int32",
         "type": "integer"
        }
       ],
       "ref": "a1f8d821-a408-4e2a-a99c-17fd05c125f3",
       "rows": [
        [
         "0",
         "rate.daily",
         "513"
        ],
        [
         "1",
         "city_avg_trips",
         "505"
        ],
        [
         "2",
         "vehicle.age",
         "371"
        ],
        [
         "3",
         "city_avg_rate",
         "174"
        ],
        [
         "4",
         "city_car_count",
         "126"
        ],
        [
         "5",
         "vehicle.type_suv",
         "78"
        ],
        [
         "6",
         "state_avg_trips",
         "63"
        ],
        [
         "7",
         "state_car_count",
         "50"
        ],
        [
         "8",
         "fuelType_GASOLINE",
         "31"
        ],
        [
         "9",
         "vehicle.type_minivan",
         "27"
        ],
        [
         "10",
         "vehicle.type_truck",
         "24"
        ],
        [
         "11",
         "fuelType_ELECTRIC",
         "22"
        ],
        [
         "12",
         "vehicle.type_van",
         "20"
        ],
        [
         "13",
         "fuelType_HYBRID",
         "5"
        ]
       ],
       "shape": {
        "columns": 2,
        "rows": 14
       }
      },
      "text/html": [
       "<div>\n",
       "<style scoped>\n",
       "    .dataframe tbody tr th:only-of-type {\n",
       "        vertical-align: middle;\n",
       "    }\n",
       "\n",
       "    .dataframe tbody tr th {\n",
       "        vertical-align: top;\n",
       "    }\n",
       "\n",
       "    .dataframe thead th {\n",
       "        text-align: right;\n",
       "    }\n",
       "</style>\n",
       "<table border=\"1\" class=\"dataframe\">\n",
       "  <thead>\n",
       "    <tr style=\"text-align: right;\">\n",
       "      <th></th>\n",
       "      <th>feature</th>\n",
       "      <th>importance</th>\n",
       "    </tr>\n",
       "  </thead>\n",
       "  <tbody>\n",
       "    <tr>\n",
       "      <th>0</th>\n",
       "      <td>rate.daily</td>\n",
       "      <td>513</td>\n",
       "    </tr>\n",
       "    <tr>\n",
       "      <th>1</th>\n",
       "      <td>city_avg_trips</td>\n",
       "      <td>505</td>\n",
       "    </tr>\n",
       "    <tr>\n",
       "      <th>2</th>\n",
       "      <td>vehicle.age</td>\n",
       "      <td>371</td>\n",
       "    </tr>\n",
       "    <tr>\n",
       "      <th>3</th>\n",
       "      <td>city_avg_rate</td>\n",
       "      <td>174</td>\n",
       "    </tr>\n",
       "    <tr>\n",
       "      <th>4</th>\n",
       "      <td>city_car_count</td>\n",
       "      <td>126</td>\n",
       "    </tr>\n",
       "    <tr>\n",
       "      <th>5</th>\n",
       "      <td>vehicle.type_suv</td>\n",
       "      <td>78</td>\n",
       "    </tr>\n",
       "    <tr>\n",
       "      <th>6</th>\n",
       "      <td>state_avg_trips</td>\n",
       "      <td>63</td>\n",
       "    </tr>\n",
       "    <tr>\n",
       "      <th>7</th>\n",
       "      <td>state_car_count</td>\n",
       "      <td>50</td>\n",
       "    </tr>\n",
       "    <tr>\n",
       "      <th>8</th>\n",
       "      <td>fuelType_GASOLINE</td>\n",
       "      <td>31</td>\n",
       "    </tr>\n",
       "    <tr>\n",
       "      <th>9</th>\n",
       "      <td>vehicle.type_minivan</td>\n",
       "      <td>27</td>\n",
       "    </tr>\n",
       "    <tr>\n",
       "      <th>10</th>\n",
       "      <td>vehicle.type_truck</td>\n",
       "      <td>24</td>\n",
       "    </tr>\n",
       "    <tr>\n",
       "      <th>11</th>\n",
       "      <td>fuelType_ELECTRIC</td>\n",
       "      <td>22</td>\n",
       "    </tr>\n",
       "    <tr>\n",
       "      <th>12</th>\n",
       "      <td>vehicle.type_van</td>\n",
       "      <td>20</td>\n",
       "    </tr>\n",
       "    <tr>\n",
       "      <th>13</th>\n",
       "      <td>fuelType_HYBRID</td>\n",
       "      <td>5</td>\n",
       "    </tr>\n",
       "  </tbody>\n",
       "</table>\n",
       "</div>"
      ],
      "text/plain": [
       "                 feature  importance\n",
       "0             rate.daily         513\n",
       "1         city_avg_trips         505\n",
       "2            vehicle.age         371\n",
       "3          city_avg_rate         174\n",
       "4         city_car_count         126\n",
       "5       vehicle.type_suv          78\n",
       "6        state_avg_trips          63\n",
       "7        state_car_count          50\n",
       "8      fuelType_GASOLINE          31\n",
       "9   vehicle.type_minivan          27\n",
       "10    vehicle.type_truck          24\n",
       "11     fuelType_ELECTRIC          22\n",
       "12      vehicle.type_van          20\n",
       "13       fuelType_HYBRID           5"
      ]
     },
     "metadata": {},
     "output_type": "display_data"
    },
    {
     "name": "stderr",
     "output_type": "stream",
     "text": [
      "C:\\Users\\Killumy\\AppData\\Local\\Temp\\ipykernel_15200\\2961638370.py:13: FutureWarning: \n",
      "\n",
      "Passing `palette` without assigning `hue` is deprecated and will be removed in v0.14.0. Assign the `y` variable to `hue` and set `legend=False` for the same effect.\n",
      "\n",
      "  sns.barplot(data=feature_importances.head(15), x='importance', y='feature', palette='viridis')\n"
     ]
    },
    {
     "data": {
      "image/png": "[encoded data removed]",
      "text/plain": [
       "<Figure size 1200x800 with 1 Axes>"
      ]
     },
     "metadata": {},
     "output_type": "display_data"
    },
    {
     "name": "stdout",
     "output_type": "stream",
     "text": [
      "\n",
      "✅ Финальная настроенная и методологически корректная модель сохранена в: 'models\\lgbm_model.txt'\n",
      "\n",
      "--- Исправленный Этап 3 полностью завершен. ---\n"
     ]
    }
   ],
   "source": [
    "# --- Шаг 3.4: Анализ финальной модели и сохранение ---\n",
    "\n",
    "# Теперь посмотрим, какие признаки стали важны, когда модель не может \"списывать\" с reviewCount.\n",
    "feature_importances = pd.DataFrame({\n",
    "    'feature': X_train.columns,\n",
    "    'importance': best_lgbm_tuned.feature_importances_\n",
    "}).sort_values('importance', ascending=False).reset_index(drop=True)\n",
    "\n",
    "print(\"\\n--- Топ-15 признаков для финальной модели ---\")\n",
    "display(feature_importances.head(15))\n",
    "\n",
    "plt.figure(figsize=(12, 8))\n",
    "sns.barplot(data=feature_importances.head(15), x='importance', y='feature', palette='viridis')\n",
    "plt.title('Важность признаков (финальная \"честная\" модель)', fontsize=16)\n",
    "plt.show()\n",
    "\n",
    "# --- Сохранение финальной модели ---\n",
    "model_dir = 'models'\n",
    "os.makedirs(model_dir, exist_ok=True)\n",
    "model_path = os.path.join(model_dir, 'lgbm_model.txt')\n",
    "\n",
    "# Перезаписываем старую \"нечестную\" модель нашей новой, правильной.\n",
    "best_lgbm_tuned.booster_.save_model(model_path)\n",
    "\n",
    "print(f\"\\n✅ Финальная настроенная и методологически корректная модель сохранена в: '{model_path}'\")\n",
    "print(\"\\n--- Исправленный Этап 3 полностью завершен. ---\")"
   ]
  }
 ],
 "metadata": {
  "kernelspec": {
   "display_name": "Python 3",
   "language": "python",
   "name": "python3"
  },
  "language_info": {
   "codemirror_mode": {
    "name": "ipython",
    "version": 3
   },
   "file_extension": ".py",
   "mimetype": "text/x-python",
   "name": "python",
   "nbconvert_exporter": "python",
   "pygments_lexer": "ipython3",
   "version": "3.13.4"
  }
 },
 "nbformat": 4,
 "nbformat_minor": 5
}
